{
 "cells": [
  {
   "cell_type": "markdown",
   "metadata": {},
   "source": [
    "# Digit Recognizer"
   ]
  },
  {
   "cell_type": "markdown",
   "metadata": {},
   "source": [
    "## 1. Import Libraries/Frameworks"
   ]
  },
  {
   "cell_type": "code",
   "execution_count": 1,
   "metadata": {},
   "outputs": [
    {
     "name": "stderr",
     "output_type": "stream",
     "text": [
      "Using TensorFlow backend.\n"
     ]
    },
    {
     "data": {
      "text/plain": [
       "True"
      ]
     },
     "execution_count": 1,
     "metadata": {},
     "output_type": "execute_result"
    }
   ],
   "source": [
    "# import libraries/frameworks\n",
    "import pandas as pd\n",
    "import numpy as np\n",
    "import matplotlib.pyplot as plt\n",
    "import matplotlib.image as mpimg\n",
    "import seaborn as sns\n",
    "import itertools\n",
    "\n",
    "# set up seed random generator for NumPy\n",
    "np.random.seed(2)\n",
    "\n",
    "# import TrainTestSplit and ConusionMatrix functions from sklearn\n",
    "from sklearn.model_selection import train_test_split\n",
    "from sklearn.metrics import confusion_matrix\n",
    "\n",
    "# import required functions from keras to build/train/test the model\n",
    "import tensorflow as tf\n",
    "from keras.utils.np_utils import to_categorical # convert to one-hot-encoding\n",
    "from keras.models import Sequential\n",
    "from keras.layers import Dense, Dropout, Flatten, Conv2D, MaxPool2D\n",
    "from keras.optimizers import RMSprop\n",
    "from keras.preprocessing.image import ImageDataGenerator\n",
    "from keras.callbacks import ReduceLROnPlateau\n",
    "\n",
    "# import src and model\n",
    "from src import display_errors, plot_confusion_matrix\n",
    "from model import defineModel\n",
    "\n",
    "# set up displayer for jupyter notebook when displaying tables/images\n",
    "%matplotlib inline\n",
    "\n",
    "# set up seaborn\n",
    "sns.set(style='white', context='notebook', palette='deep')\n",
    "\n",
    "# check whether TensorFlow-gpu is enabled/installed\n",
    "tf.test.is_gpu_available()"
   ]
  },
  {
   "cell_type": "markdown",
   "metadata": {},
   "source": [
    "## 2. Data preparation"
   ]
  },
  {
   "cell_type": "markdown",
   "metadata": {},
   "source": [
    "### 2.1 Load data"
   ]
  },
  {
   "cell_type": "code",
   "execution_count": 2,
   "metadata": {},
   "outputs": [],
   "source": [
    "# Load the data\n",
    "train = pd.read_csv(\"data/train.csv\")\n",
    "test = pd.read_csv(\"data/test.csv\")"
   ]
  },
  {
   "cell_type": "code",
   "execution_count": 3,
   "metadata": {},
   "outputs": [
    {
     "data": {
      "text/plain": [
       "1    4684\n",
       "7    4401\n",
       "3    4351\n",
       "9    4188\n",
       "2    4177\n",
       "6    4137\n",
       "0    4132\n",
       "4    4072\n",
       "8    4063\n",
       "5    3795\n",
       "Name: label, dtype: int64"
      ]
     },
     "execution_count": 3,
     "metadata": {},
     "output_type": "execute_result"
    },
    {
     "data": {
      "image/png": "[encoded data removed]",
      "text/plain": [
       "<Figure size 432x288 with 1 Axes>"
      ]
     },
     "metadata": {
      "needs_background": "light"
     },
     "output_type": "display_data"
    }
   ],
   "source": [
    "Y_train = train[\"label\"]\n",
    "\n",
    "# Drop 'label' column\n",
    "X_train = train.drop(labels = [\"label\"],axis = 1) \n",
    "\n",
    "# free some space\n",
    "del train \n",
    "\n",
    "g = sns.countplot(Y_train)\n",
    "\n",
    "Y_train.value_counts()"
   ]
  },
  {
   "cell_type": "markdown",
   "metadata": {},
   "source": [
    "### 2.2 Check for null and missing values"
   ]
  },
  {
   "cell_type": "code",
   "execution_count": 4,
   "metadata": {},
   "outputs": [
    {
     "name": "stdout",
     "output_type": "stream",
     "text": [
      "-------training-------\n"
     ]
    },
    {
     "data": {
      "text/plain": [
       "count       784\n",
       "unique        1\n",
       "top       False\n",
       "freq        784\n",
       "dtype: object"
      ]
     },
     "execution_count": 4,
     "metadata": {},
     "output_type": "execute_result"
    }
   ],
   "source": [
    "# Check the data\n",
    "print(\"-------training-------\")\n",
    "X_train.isnull().any().describe()"
   ]
  },
  {
   "cell_type": "code",
   "execution_count": 5,
   "metadata": {},
   "outputs": [
    {
     "name": "stdout",
     "output_type": "stream",
     "text": [
      "---------test---------\n"
     ]
    },
    {
     "data": {
      "text/plain": [
       "count       784\n",
       "unique        1\n",
       "top       False\n",
       "freq        784\n",
       "dtype: object"
      ]
     },
     "execution_count": 5,
     "metadata": {},
     "output_type": "execute_result"
    }
   ],
   "source": [
    "print(\"---------test---------\")\n",
    "test.isnull().any().describe()"
   ]
  },
  {
   "cell_type": "markdown",
   "metadata": {},
   "source": [
    "### 2.3 Normalization"
   ]
  },
  {
   "cell_type": "code",
   "execution_count": 6,
   "metadata": {},
   "outputs": [],
   "source": [
    "# Normalize the data\n",
    "X_train = X_train / 255.0\n",
    "test = test / 255.0"
   ]
  },
  {
   "cell_type": "markdown",
   "metadata": {},
   "source": [
    "### 2.3 Reshape"
   ]
  },
  {
   "cell_type": "code",
   "execution_count": 7,
   "metadata": {},
   "outputs": [],
   "source": [
    "# Reshape image in 3 dimensions (height = 28px, width = 28px , canal = 1)\n",
    "X_train = X_train.values.reshape(-1,28,28,1)\n",
    "test = test.values.reshape(-1,28,28,1)"
   ]
  },
  {
   "cell_type": "markdown",
   "metadata": {},
   "source": [
    "### 2.5 Label encoding"
   ]
  },
  {
   "cell_type": "code",
   "execution_count": 8,
   "metadata": {},
   "outputs": [],
   "source": [
    "# Encode labels to one hot vectors (ex : 2 -> [0,0,1,0,0,0,0,0,0,0])\n",
    "Y_train = to_categorical(Y_train, num_classes = 10)"
   ]
  },
  {
   "cell_type": "markdown",
   "metadata": {},
   "source": [
    "### 2.6 Split training and valdiation set"
   ]
  },
  {
   "cell_type": "code",
   "execution_count": 9,
   "metadata": {},
   "outputs": [
    {
     "data": {
      "image/png": "[encoded data removed]",
      "text/plain": [
       "<Figure size 432x288 with 1 Axes>"
      ]
     },
     "metadata": {
      "needs_background": "light"
     },
     "output_type": "display_data"
    }
   ],
   "source": [
    "# Set the random seed\n",
    "random_seed = 2\n",
    "# Split the train and the validation set for the fitting\n",
    "X_train, X_val, Y_train, Y_val = train_test_split(X_train, Y_train, test_size = 0.1, random_state=random_seed)\n",
    "# Some examples\n",
    "g = plt.imshow(X_train[0][:,:,0])"
   ]
  },
  {
   "cell_type": "markdown",
   "metadata": {},
   "source": [
    "## 3. CNN"
   ]
  },
  {
   "cell_type": "markdown",
   "metadata": {},
   "source": [
    "### 3.1 Define the model"
   ]
  },
  {
   "cell_type": "code",
   "execution_count": 10,
   "metadata": {},
   "outputs": [],
   "source": [
    "model = defineModel()"
   ]
  },
  {
   "cell_type": "markdown",
   "metadata": {},
   "source": [
    "### 3.2 Set the optimizer and annealer"
   ]
  },
  {
   "cell_type": "code",
   "execution_count": 11,
   "metadata": {},
   "outputs": [],
   "source": [
    "# Define the optimizer\n",
    "optimizer = RMSprop(lr=0.001, rho=0.9, epsilon=1e-08, decay=0.0)\n",
    "# Compile the model\n",
    "model.compile(optimizer = optimizer , loss = \"categorical_crossentropy\", metrics=[\"accuracy\"])\n",
    "# Set a learning rate annealer\n",
    "learning_rate_reduction = ReduceLROnPlateau(monitor='val_acc', \n",
    "                                            patience=3, \n",
    "                                            verbose=1, \n",
    "                                            factor=0.5, \n",
    "                                            min_lr=0.00001)\n",
    "epochs = 60 # Turn epochs to 30 to get 0.9967 accuracy\n",
    "batch_size = 86"
   ]
  },
  {
   "cell_type": "markdown",
   "metadata": {},
   "source": [
    "### 3.3 Data augmentation"
   ]
  },
  {
   "cell_type": "code",
   "execution_count": 12,
   "metadata": {},
   "outputs": [],
   "source": [
    "# Without data augmentation i obtained an accuracy of 0.98114\n",
    "# history = model.fit(X_train, Y_train, batch_size = batch_size, epochs = epochs, \n",
    "#           validation_data = (X_val, Y_val), verbose = 2)"
   ]
  },
  {
   "cell_type": "code",
   "execution_count": 13,
   "metadata": {},
   "outputs": [
    {
     "name": "stdout",
     "output_type": "stream",
     "text": [
      "Epoch 1/60\n",
      " - 8s - loss: 0.4106 - acc: 0.8672 - val_loss: 0.0849 - val_acc: 0.9748\n",
      "Epoch 2/60\n",
      " - 6s - loss: 0.1274 - acc: 0.9626 - val_loss: 0.0435 - val_acc: 0.9869\n",
      "Epoch 3/60\n",
      " - 6s - loss: 0.0951 - acc: 0.9721 - val_loss: 0.0319 - val_acc: 0.9902\n",
      "Epoch 4/60\n",
      " - 6s - loss: 0.0805 - acc: 0.9765 - val_loss: 0.0328 - val_acc: 0.9912\n",
      "Epoch 5/60\n",
      " - 6s - loss: 0.0710 - acc: 0.9794 - val_loss: 0.0339 - val_acc: 0.9881\n",
      "Epoch 6/60\n",
      " - 6s - loss: 0.0644 - acc: 0.9812 - val_loss: 0.0351 - val_acc: 0.9893\n",
      "Epoch 7/60\n",
      " - 6s - loss: 0.0609 - acc: 0.9823 - val_loss: 0.0347 - val_acc: 0.9898\n",
      "\n",
      "Epoch 00007: ReduceLROnPlateau reducing learning rate to 0.0005000000237487257.\n",
      "Epoch 8/60\n",
      " - 6s - loss: 0.0462 - acc: 0.9865 - val_loss: 0.0206 - val_acc: 0.9943\n",
      "Epoch 9/60\n",
      " - 6s - loss: 0.0445 - acc: 0.9868 - val_loss: 0.0172 - val_acc: 0.9952\n",
      "Epoch 10/60\n",
      " - 6s - loss: 0.0454 - acc: 0.9872 - val_loss: 0.0172 - val_acc: 0.9940\n",
      "Epoch 11/60\n",
      " - 6s - loss: 0.0432 - acc: 0.9877 - val_loss: 0.0165 - val_acc: 0.9940\n",
      "Epoch 12/60\n",
      " - 6s - loss: 0.0464 - acc: 0.9868 - val_loss: 0.0167 - val_acc: 0.9960\n",
      "Epoch 13/60\n",
      " - 6s - loss: 0.0442 - acc: 0.9878 - val_loss: 0.0167 - val_acc: 0.9948\n",
      "Epoch 14/60\n",
      " - 6s - loss: 0.0437 - acc: 0.9874 - val_loss: 0.0194 - val_acc: 0.9938\n",
      "Epoch 15/60\n",
      " - 6s - loss: 0.0406 - acc: 0.9876 - val_loss: 0.0191 - val_acc: 0.9940\n",
      "\n",
      "Epoch 00015: ReduceLROnPlateau reducing learning rate to 0.0002500000118743628.\n",
      "Epoch 16/60\n",
      " - 6s - loss: 0.0355 - acc: 0.9896 - val_loss: 0.0157 - val_acc: 0.9950\n",
      "Epoch 17/60\n",
      " - 6s - loss: 0.0353 - acc: 0.9899 - val_loss: 0.0175 - val_acc: 0.9955\n",
      "Epoch 18/60\n",
      " - 6s - loss: 0.0313 - acc: 0.9910 - val_loss: 0.0134 - val_acc: 0.9952\n",
      "\n",
      "Epoch 00018: ReduceLROnPlateau reducing learning rate to 0.0001250000059371814.\n",
      "Epoch 19/60\n",
      " - 6s - loss: 0.0300 - acc: 0.9908 - val_loss: 0.0146 - val_acc: 0.9960\n",
      "Epoch 20/60\n",
      " - 6s - loss: 0.0308 - acc: 0.9911 - val_loss: 0.0157 - val_acc: 0.9960\n",
      "Epoch 21/60\n",
      " - 6s - loss: 0.0292 - acc: 0.9911 - val_loss: 0.0183 - val_acc: 0.9948\n",
      "\n",
      "Epoch 00021: ReduceLROnPlateau reducing learning rate to 6.25000029685907e-05.\n",
      "Epoch 22/60\n",
      " - 6s - loss: 0.0297 - acc: 0.9913 - val_loss: 0.0139 - val_acc: 0.9960\n",
      "Epoch 23/60\n",
      " - 6s - loss: 0.0269 - acc: 0.9920 - val_loss: 0.0139 - val_acc: 0.9964\n",
      "Epoch 24/60\n",
      " - 6s - loss: 0.0264 - acc: 0.9924 - val_loss: 0.0150 - val_acc: 0.9962\n",
      "Epoch 25/60\n",
      " - 6s - loss: 0.0257 - acc: 0.9923 - val_loss: 0.0146 - val_acc: 0.9957\n",
      "Epoch 26/60\n",
      " - 6s - loss: 0.0292 - acc: 0.9914 - val_loss: 0.0141 - val_acc: 0.9962\n",
      "\n",
      "Epoch 00026: ReduceLROnPlateau reducing learning rate to 3.125000148429535e-05.\n",
      "Epoch 27/60\n",
      " - 6s - loss: 0.0250 - acc: 0.9926 - val_loss: 0.0140 - val_acc: 0.9957\n",
      "Epoch 28/60\n",
      " - 6s - loss: 0.0268 - acc: 0.9922 - val_loss: 0.0130 - val_acc: 0.9960\n",
      "Epoch 29/60\n",
      " - 6s - loss: 0.0264 - acc: 0.9918 - val_loss: 0.0142 - val_acc: 0.9957\n",
      "\n",
      "Epoch 00029: ReduceLROnPlateau reducing learning rate to 1.5625000742147677e-05.\n",
      "Epoch 30/60\n",
      " - 6s - loss: 0.0269 - acc: 0.9926 - val_loss: 0.0130 - val_acc: 0.9960\n",
      "Epoch 31/60\n",
      " - 6s - loss: 0.0273 - acc: 0.9926 - val_loss: 0.0126 - val_acc: 0.9962\n",
      "Epoch 32/60\n",
      " - 6s - loss: 0.0269 - acc: 0.9925 - val_loss: 0.0133 - val_acc: 0.9962\n",
      "\n",
      "Epoch 00032: ReduceLROnPlateau reducing learning rate to 1e-05.\n",
      "Epoch 33/60\n",
      " - 6s - loss: 0.0263 - acc: 0.9925 - val_loss: 0.0129 - val_acc: 0.9964\n",
      "Epoch 34/60\n",
      " - 6s - loss: 0.0255 - acc: 0.9923 - val_loss: 0.0130 - val_acc: 0.9962\n",
      "Epoch 35/60\n",
      " - 6s - loss: 0.0261 - acc: 0.9918 - val_loss: 0.0131 - val_acc: 0.9960\n",
      "Epoch 36/60\n",
      " - 6s - loss: 0.0263 - acc: 0.9917 - val_loss: 0.0136 - val_acc: 0.9960\n",
      "Epoch 37/60\n",
      " - 6s - loss: 0.0253 - acc: 0.9926 - val_loss: 0.0133 - val_acc: 0.9960\n",
      "Epoch 38/60\n",
      " - 6s - loss: 0.0249 - acc: 0.9928 - val_loss: 0.0130 - val_acc: 0.9960\n",
      "Epoch 39/60\n",
      " - 6s - loss: 0.0254 - acc: 0.9925 - val_loss: 0.0126 - val_acc: 0.9962\n",
      "Epoch 40/60\n",
      " - 6s - loss: 0.0255 - acc: 0.9925 - val_loss: 0.0129 - val_acc: 0.9960\n",
      "Epoch 41/60\n",
      " - 6s - loss: 0.0247 - acc: 0.9925 - val_loss: 0.0127 - val_acc: 0.9962\n",
      "Epoch 42/60\n",
      " - 6s - loss: 0.0247 - acc: 0.9927 - val_loss: 0.0130 - val_acc: 0.9962\n",
      "Epoch 43/60\n",
      " - 6s - loss: 0.0245 - acc: 0.9930 - val_loss: 0.0133 - val_acc: 0.9960\n",
      "Epoch 44/60\n",
      " - 6s - loss: 0.0244 - acc: 0.9926 - val_loss: 0.0129 - val_acc: 0.9964\n",
      "Epoch 45/60\n",
      " - 6s - loss: 0.0261 - acc: 0.9925 - val_loss: 0.0131 - val_acc: 0.9964\n",
      "Epoch 46/60\n",
      " - 6s - loss: 0.0260 - acc: 0.9924 - val_loss: 0.0131 - val_acc: 0.9962\n",
      "Epoch 47/60\n",
      " - 6s - loss: 0.0263 - acc: 0.9917 - val_loss: 0.0130 - val_acc: 0.9962\n",
      "Epoch 48/60\n",
      " - 6s - loss: 0.0213 - acc: 0.9934 - val_loss: 0.0134 - val_acc: 0.9957\n",
      "Epoch 49/60\n",
      " - 6s - loss: 0.0268 - acc: 0.9924 - val_loss: 0.0134 - val_acc: 0.9962\n",
      "Epoch 50/60\n",
      " - 6s - loss: 0.0243 - acc: 0.9931 - val_loss: 0.0134 - val_acc: 0.9957\n",
      "Epoch 51/60\n",
      " - 6s - loss: 0.0260 - acc: 0.9925 - val_loss: 0.0131 - val_acc: 0.9962\n",
      "Epoch 52/60\n",
      " - 6s - loss: 0.0257 - acc: 0.9923 - val_loss: 0.0127 - val_acc: 0.9960\n",
      "Epoch 53/60\n",
      " - 6s - loss: 0.0266 - acc: 0.9924 - val_loss: 0.0129 - val_acc: 0.9962\n",
      "Epoch 54/60\n",
      " - 6s - loss: 0.0254 - acc: 0.9927 - val_loss: 0.0133 - val_acc: 0.9964\n",
      "Epoch 55/60\n",
      " - 6s - loss: 0.0244 - acc: 0.9929 - val_loss: 0.0133 - val_acc: 0.9962\n",
      "Epoch 56/60\n",
      " - 6s - loss: 0.0246 - acc: 0.9927 - val_loss: 0.0131 - val_acc: 0.9962\n",
      "Epoch 57/60\n",
      " - 6s - loss: 0.0245 - acc: 0.9931 - val_loss: 0.0130 - val_acc: 0.9962\n",
      "Epoch 58/60\n",
      " - 6s - loss: 0.0260 - acc: 0.9921 - val_loss: 0.0131 - val_acc: 0.9964\n",
      "Epoch 59/60\n",
      " - 6s - loss: 0.0248 - acc: 0.9931 - val_loss: 0.0131 - val_acc: 0.9964\n",
      "Epoch 60/60\n",
      " - 6s - loss: 0.0265 - acc: 0.9920 - val_loss: 0.0130 - val_acc: 0.9967\n"
     ]
    }
   ],
   "source": [
    "# With data augmentation to prevent overfitting (accuracy 0.99286)\n",
    "\n",
    "datagen = ImageDataGenerator(\n",
    "        featurewise_center=False,  # set input mean to 0 over the dataset\n",
    "        samplewise_center=False,  # set each sample mean to 0\n",
    "        featurewise_std_normalization=False,  # divide inputs by std of the dataset\n",
    "        samplewise_std_normalization=False,  # divide each input by its std\n",
    "        zca_whitening=False,  # apply ZCA whitening\n",
    "        rotation_range=10,  # randomly rotate images in the range (degrees, 0 to 180)\n",
    "        zoom_range = 0.1, # Randomly zoom image \n",
    "        width_shift_range=0.1,  # randomly shift images horizontally (fraction of total width)\n",
    "        height_shift_range=0.1,  # randomly shift images vertically (fraction of total height)\n",
    "        horizontal_flip=False,  # randomly flip images\n",
    "        vertical_flip=False)  # randomly flip images\n",
    "\n",
    "\n",
    "datagen.fit(X_train)\n",
    "\n",
    "# Fit the model\n",
    "history = model.fit_generator(datagen.flow(X_train,Y_train, batch_size=batch_size),\n",
    "                              epochs = epochs, validation_data = (X_val,Y_val),\n",
    "                              verbose = 2, steps_per_epoch=X_train.shape[0] // batch_size\n",
    "                              , callbacks=[learning_rate_reduction])"
   ]
  },
  {
   "cell_type": "markdown",
   "metadata": {},
   "source": [
    "## 4. Evaluate the model"
   ]
  },
  {
   "cell_type": "markdown",
   "metadata": {},
   "source": [
    "### 4.1 Training and validation curves"
   ]
  },
  {
   "cell_type": "code",
   "execution_count": 14,
   "metadata": {},
   "outputs": [
    {
     "data": {
      "image/png": "[encoded data removed]",
      "text/plain": [
       "<Figure size 432x288 with 2 Axes>"
      ]
     },
     "metadata": {
      "needs_background": "light"
     },
     "output_type": "display_data"
    }
   ],
   "source": [
    "# Plot the loss and accuracy curves for training and validation \n",
    "fig, ax = plt.subplots(2,1)\n",
    "ax[0].plot(history.history['loss'], color='b', label=\"Training loss\")\n",
    "ax[0].plot(history.history['val_loss'], color='r', label=\"validation loss\",axes =ax[0])\n",
    "legend = ax[0].legend(loc='best', shadow=True)\n",
    "\n",
    "ax[1].plot(history.history['acc'], color='b', label=\"Training accuracy\")\n",
    "ax[1].plot(history.history['val_acc'], color='r',label=\"Validation accuracy\")\n",
    "legend = ax[1].legend(loc='best', shadow=True)"
   ]
  },
  {
   "cell_type": "markdown",
   "metadata": {},
   "source": [
    "### 4.2 Confusion matrix"
   ]
  },
  {
   "cell_type": "code",
   "execution_count": 15,
   "metadata": {},
   "outputs": [
    {
     "data": {
      "image/png": "[encoded data removed]",
      "text/plain": [
       "<Figure size 432x288 with 2 Axes>"
      ]
     },
     "metadata": {
      "needs_background": "light"
     },
     "output_type": "display_data"
    }
   ],
   "source": [
    "# Look at confusion matrix \n",
    "# Predict the values from the validation dataset\n",
    "Y_pred = model.predict(X_val)\n",
    "# Convert predictions classes to one hot vectors \n",
    "Y_pred_classes = np.argmax(Y_pred,axis = 1) \n",
    "# Convert validation observations to one hot vectors\n",
    "Y_true = np.argmax(Y_val,axis = 1) \n",
    "# compute the confusion matrix\n",
    "confusion_mtx = confusion_matrix(Y_true, Y_pred_classes) \n",
    "# plot the confusion matrix\n",
    "plot_confusion_matrix(confusion_mtx, classes = range(10))"
   ]
  },
  {
   "cell_type": "code",
   "execution_count": 16,
   "metadata": {},
   "outputs": [
    {
     "data": {
      "image/png": "[encoded data removed]",
      "text/plain": [
       "<Figure size 432x288 with 6 Axes>"
      ]
     },
     "metadata": {
      "needs_background": "light"
     },
     "output_type": "display_data"
    }
   ],
   "source": [
    "# Display some error results \n",
    "\n",
    "# Errors are difference between predicted labels and true labels\n",
    "errors = (Y_pred_classes - Y_true != 0)\n",
    "\n",
    "Y_pred_classes_errors = Y_pred_classes[errors]\n",
    "Y_pred_errors = Y_pred[errors]\n",
    "Y_true_errors = Y_true[errors]\n",
    "X_val_errors = X_val[errors]\n",
    "\n",
    "# Probabilities of the wrong predicted numbers\n",
    "Y_pred_errors_prob = np.max(Y_pred_errors,axis = 1)\n",
    "\n",
    "# Predicted probabilities of the true values in the error set\n",
    "true_prob_errors = np.diagonal(np.take(Y_pred_errors, Y_true_errors, axis=1))\n",
    "\n",
    "# Difference between the probability of the predicted label and the true label\n",
    "delta_pred_true_errors = Y_pred_errors_prob - true_prob_errors\n",
    "\n",
    "# Sorted list of the delta prob errors\n",
    "sorted_dela_errors = np.argsort(delta_pred_true_errors)\n",
    "\n",
    "# Top 6 errors \n",
    "most_important_errors = sorted_dela_errors[-6:]\n",
    "\n",
    "# Show the top 6 errors\n",
    "display_errors(most_important_errors, X_val_errors, Y_pred_classes_errors, Y_true_errors)"
   ]
  },
  {
   "cell_type": "code",
   "execution_count": 17,
   "metadata": {},
   "outputs": [],
   "source": [
    "# predict results\n",
    "results = model.predict(test)\n",
    "\n",
    "# select the indix with the maximum probability\n",
    "results = np.argmax(results,axis = 1)\n",
    "\n",
    "results = pd.Series(results,name=\"Label\")"
   ]
  },
  {
   "cell_type": "code",
   "execution_count": 19,
   "metadata": {},
   "outputs": [],
   "source": [
    "submission = pd.concat([pd.Series(range(1,28001),name = \"ImageId\"),results],axis = 1)\n",
    "\n",
    "submission.to_csv(\"submissions/cnn_mnist_datagen.csv\",index=False)"
   ]
  },
  {
   "cell_type": "code",
   "execution_count": null,
   "metadata": {},
   "outputs": [],
   "source": []
  },
  {
   "cell_type": "code",
   "execution_count": null,
   "metadata": {},
   "outputs": [],
   "source": []
  },
  {
   "cell_type": "code",
   "execution_count": null,
   "metadata": {},
   "outputs": [],
   "source": []
  },
  {
   "cell_type": "code",
   "execution_count": null,
   "metadata": {},
   "outputs": [],
   "source": []
  }
 ],
 "metadata": {
  "kernelspec": {
   "display_name": "Python 3",
   "language": "python",
   "name": "python3"
  },
  "language_info": {
   "codemirror_mode": {
    "name": "ipython",
    "version": 3
   },
   "file_extension": ".py",
   "mimetype": "text/x-python",
   "name": "python",
   "nbconvert_exporter": "python",
   "pygments_lexer": "ipython3",
   "version": "3.6.8"
  }
 },
 "nbformat": 4,
 "nbformat_minor": 2
}
